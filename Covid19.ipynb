{
 "cells": [
  {
   "cell_type": "code",
   "execution_count": 1,
   "metadata": {},
   "outputs": [
    {
     "name": "stdout",
     "output_type": "stream",
     "text": [
      "Defaulting to user installation because normal site-packages is not writeable\n",
      "Requirement already satisfied: nltk in c:\\users\\jimoh\\appdata\\roaming\\python\\python311\\site-packages (3.8.1)\n",
      "Requirement already satisfied: click in c:\\users\\jimoh\\appdata\\roaming\\python\\python311\\site-packages (from nltk) (8.1.7)\n",
      "Requirement already satisfied: joblib in c:\\users\\jimoh\\appdata\\roaming\\python\\python311\\site-packages (from nltk) (1.4.0)\n",
      "Requirement already satisfied: regex>=2021.8.3 in c:\\users\\jimoh\\appdata\\roaming\\python\\python311\\site-packages (from nltk) (2024.4.16)\n",
      "Requirement already satisfied: tqdm in c:\\users\\jimoh\\appdata\\roaming\\python\\python311\\site-packages (from nltk) (4.66.2)\n",
      "Requirement already satisfied: colorama in c:\\users\\jimoh\\appdata\\roaming\\python\\python311\\site-packages (from click->nltk) (0.4.6)\n",
      "Note: you may need to restart the kernel to use updated packages.\n"
     ]
    },
    {
     "name": "stderr",
     "output_type": "stream",
     "text": [
      "\n",
      "[notice] A new release of pip available: 22.3 -> 24.0\n",
      "[notice] To update, run: python.exe -m pip install --upgrade pip\n"
     ]
    }
   ],
   "source": [
    "pip install nltk"
   ]
  },
  {
   "cell_type": "code",
   "execution_count": 2,
   "metadata": {},
   "outputs": [
    {
     "name": "stderr",
     "output_type": "stream",
     "text": [
      "[nltk_data] Downloading package stopwords to\n",
      "[nltk_data]     C:\\Users\\JIMOH\\AppData\\Roaming\\nltk_data...\n",
      "[nltk_data]   Package stopwords is already up-to-date!\n",
      "[nltk_data] Downloading package punkt to\n",
      "[nltk_data]     C:\\Users\\JIMOH\\AppData\\Roaming\\nltk_data...\n",
      "[nltk_data]   Package punkt is already up-to-date!\n",
      "[nltk_data] Downloading package wordnet to\n",
      "[nltk_data]     C:\\Users\\JIMOH\\AppData\\Roaming\\nltk_data...\n",
      "[nltk_data]   Package wordnet is already up-to-date!\n"
     ]
    },
    {
     "data": {
      "text/plain": [
       "True"
      ]
     },
     "execution_count": 2,
     "metadata": {},
     "output_type": "execute_result"
    }
   ],
   "source": [
    "import nltk\n",
    "import random\n",
    "from sklearn.feature_extraction.text import TfidfVectorizer\n",
    "from sklearn.metrics.pairwise import cosine_similarity      \n",
    "import pandas as pd\n",
    "import warnings\n",
    "warnings.filterwarnings('ignore')\n",
    "# import spacy\n",
    "lemmatizer = nltk.stem.WordNetLemmatizer()\n",
    "\n",
    "# Download required NLTK data\n",
    "nltk.download('stopwords')\n",
    "nltk.download('punkt')\n",
    "nltk.download('wordnet')"
   ]
  },
  {
   "cell_type": "code",
   "execution_count": 32,
   "metadata": {},
   "outputs": [
    {
     "data": {
      "text/html": [
       "<div>\n",
       "<style scoped>\n",
       "    .dataframe tbody tr th:only-of-type {\n",
       "        vertical-align: middle;\n",
       "    }\n",
       "\n",
       "    .dataframe tbody tr th {\n",
       "        vertical-align: top;\n",
       "    }\n",
       "\n",
       "    .dataframe thead th {\n",
       "        text-align: right;\n",
       "    }\n",
       "</style>\n",
       "<table border=\"1\" class=\"dataframe\">\n",
       "  <thead>\n",
       "    <tr style=\"text-align: right;\">\n",
       "      <th></th>\n",
       "      <th>0</th>\n",
       "      <th>1</th>\n",
       "    </tr>\n",
       "  </thead>\n",
       "  <tbody>\n",
       "    <tr>\n",
       "      <th>0</th>\n",
       "      <td>User</td>\n",
       "      <td>Hi HealthBot 19, I've been feeling a bit unde...</td>\n",
       "    </tr>\n",
       "    <tr>\n",
       "      <th>1</th>\n",
       "      <td>HealthBot 19</td>\n",
       "      <td>Hello! I'm here to help. What symptoms are yo...</td>\n",
       "    </tr>\n",
       "    <tr>\n",
       "      <th>2</th>\n",
       "      <td>User</td>\n",
       "      <td>I have a sore throat and a mild fever.</td>\n",
       "    </tr>\n",
       "    <tr>\n",
       "      <th>3</th>\n",
       "      <td>HealthBot 19</td>\n",
       "      <td>I'm sorry to hear that. Have you noticed any ...</td>\n",
       "    </tr>\n",
       "    <tr>\n",
       "      <th>4</th>\n",
       "      <td>User</td>\n",
       "      <td>Yes, I've had a dry cough as well.</td>\n",
       "    </tr>\n",
       "    <tr>\n",
       "      <th>5</th>\n",
       "      <td>HealthBot 19</td>\n",
       "      <td>Based on your symptoms of sore throat, mild f...</td>\n",
       "    </tr>\n",
       "    <tr>\n",
       "      <th>6</th>\n",
       "      <td>User</td>\n",
       "      <td>No, I haven't been in contact with anyone kno...</td>\n",
       "    </tr>\n",
       "    <tr>\n",
       "      <th>7</th>\n",
       "      <td>HealthBot 19</td>\n",
       "      <td>That's good to know. It's still important to ...</td>\n",
       "    </tr>\n",
       "    <tr>\n",
       "      <th>8</th>\n",
       "      <td>User</td>\n",
       "      <td>What kind of test should I get for COVID-19?</td>\n",
       "    </tr>\n",
       "    <tr>\n",
       "      <th>9</th>\n",
       "      <td>HealthBot 19</td>\n",
       "      <td>There are several types of tests available fo...</td>\n",
       "    </tr>\n",
       "    <tr>\n",
       "      <th>10</th>\n",
       "      <td>User</td>\n",
       "      <td>How long does it usually take to get the test...</td>\n",
       "    </tr>\n",
       "    <tr>\n",
       "      <th>11</th>\n",
       "      <td>HealthBot 19</td>\n",
       "      <td>The turnaround time for COVID-19 test results...</td>\n",
       "    </tr>\n",
       "    <tr>\n",
       "      <th>12</th>\n",
       "      <td>User</td>\n",
       "      <td>Should I self-isolate even if I'm waiting for...</td>\n",
       "    </tr>\n",
       "    <tr>\n",
       "      <th>13</th>\n",
       "      <td>HealthBot 19</td>\n",
       "      <td>Yes, it's recommended to self-isolate while w...</td>\n",
       "    </tr>\n",
       "    <tr>\n",
       "      <th>14</th>\n",
       "      <td>User</td>\n",
       "      <td>Thank you for the advice, HealthBot 19.</td>\n",
       "    </tr>\n",
       "    <tr>\n",
       "      <th>15</th>\n",
       "      <td>HealthBot 19</td>\n",
       "      <td>You're welcome! Remember to take care of your...</td>\n",
       "    </tr>\n",
       "    <tr>\n",
       "      <th>16</th>\n",
       "      <td>User</td>\n",
       "      <td>I have another question. How effective are th...</td>\n",
       "    </tr>\n",
       "    <tr>\n",
       "      <th>17</th>\n",
       "      <td>HealthBot 19</td>\n",
       "      <td>The COVID-19 vaccines have been shown to be h...</td>\n",
       "    </tr>\n",
       "    <tr>\n",
       "      <th>18</th>\n",
       "      <td>User</td>\n",
       "      <td>Are there any side effects of the COVID-19 va...</td>\n",
       "    </tr>\n",
       "    <tr>\n",
       "      <th>19</th>\n",
       "      <td>HealthBot 19</td>\n",
       "      <td>Like any vaccine, the COVID-19 vaccines can c...</td>\n",
       "    </tr>\n",
       "    <tr>\n",
       "      <th>20</th>\n",
       "      <td>User</td>\n",
       "      <td>How long does protection from the COVID-19 va...</td>\n",
       "    </tr>\n",
       "    <tr>\n",
       "      <th>21</th>\n",
       "      <td>HealthBot 19</td>\n",
       "      <td>The duration of protection from the COVID-19 ...</td>\n",
       "    </tr>\n",
       "    <tr>\n",
       "      <th>22</th>\n",
       "      <td>User</td>\n",
       "      <td>Thank you for the information, HealthBot 19. ...</td>\n",
       "    </tr>\n",
       "    <tr>\n",
       "      <th>23</th>\n",
       "      <td>HealthBot 19</td>\n",
       "      <td>You're welcome! Stay informed, follow public ...</td>\n",
       "    </tr>\n",
       "    <tr>\n",
       "      <th>24</th>\n",
       "      <td>User</td>\n",
       "      <td>One last question, HealthBot 19. How can I su...</td>\n",
       "    </tr>\n",
       "    <tr>\n",
       "      <th>25</th>\n",
       "      <td>HealthBot 19</td>\n",
       "      <td>That's a great question. Supporting others du...</td>\n",
       "    </tr>\n",
       "    <tr>\n",
       "      <th>26</th>\n",
       "      <td>User</td>\n",
       "      <td>Thank you, HealthBot 19, for all the informat...</td>\n",
       "    </tr>\n",
       "    <tr>\n",
       "      <th>27</th>\n",
       "      <td>HealthBot 19</td>\n",
       "      <td>You</td>\n",
       "    </tr>\n",
       "  </tbody>\n",
       "</table>\n",
       "</div>"
      ],
      "text/plain": [
       "               0                                                  1\n",
       "0           User   Hi HealthBot 19, I've been feeling a bit unde...\n",
       "1   HealthBot 19   Hello! I'm here to help. What symptoms are yo...\n",
       "2           User             I have a sore throat and a mild fever.\n",
       "3   HealthBot 19   I'm sorry to hear that. Have you noticed any ...\n",
       "4           User                 Yes, I've had a dry cough as well.\n",
       "5   HealthBot 19   Based on your symptoms of sore throat, mild f...\n",
       "6           User   No, I haven't been in contact with anyone kno...\n",
       "7   HealthBot 19   That's good to know. It's still important to ...\n",
       "8           User       What kind of test should I get for COVID-19?\n",
       "9   HealthBot 19   There are several types of tests available fo...\n",
       "10          User   How long does it usually take to get the test...\n",
       "11  HealthBot 19   The turnaround time for COVID-19 test results...\n",
       "12          User   Should I self-isolate even if I'm waiting for...\n",
       "13  HealthBot 19   Yes, it's recommended to self-isolate while w...\n",
       "14          User            Thank you for the advice, HealthBot 19.\n",
       "15  HealthBot 19   You're welcome! Remember to take care of your...\n",
       "16          User   I have another question. How effective are th...\n",
       "17  HealthBot 19   The COVID-19 vaccines have been shown to be h...\n",
       "18          User   Are there any side effects of the COVID-19 va...\n",
       "19  HealthBot 19   Like any vaccine, the COVID-19 vaccines can c...\n",
       "20          User   How long does protection from the COVID-19 va...\n",
       "21  HealthBot 19   The duration of protection from the COVID-19 ...\n",
       "22          User   Thank you for the information, HealthBot 19. ...\n",
       "23  HealthBot 19   You're welcome! Stay informed, follow public ...\n",
       "24          User   One last question, HealthBot 19. How can I su...\n",
       "25  HealthBot 19   That's a great question. Supporting others du...\n",
       "26          User   Thank you, HealthBot 19, for all the informat...\n",
       "27  HealthBot 19                                                You"
      ]
     },
     "execution_count": 32,
     "metadata": {},
     "output_type": "execute_result"
    }
   ],
   "source": [
    "data = pd.read_csv('Covid_dialogue.txt', sep = ':', header = None)     #.... sep is the seperator/delimeter we using to seperate the data that came in, while the header none is so that it doesnt make the first row header\n",
    "data"
   ]
  },
  {
   "cell_type": "code",
   "execution_count": 33,
   "metadata": {},
   "outputs": [
    {
     "data": {
      "text/html": [
       "<div>\n",
       "<style scoped>\n",
       "    .dataframe tbody tr th:only-of-type {\n",
       "        vertical-align: middle;\n",
       "    }\n",
       "\n",
       "    .dataframe tbody tr th {\n",
       "        vertical-align: top;\n",
       "    }\n",
       "\n",
       "    .dataframe thead th {\n",
       "        text-align: right;\n",
       "    }\n",
       "</style>\n",
       "<table border=\"1\" class=\"dataframe\">\n",
       "  <thead>\n",
       "    <tr style=\"text-align: right;\">\n",
       "      <th></th>\n",
       "      <th>Question</th>\n",
       "      <th>Answer</th>\n",
       "    </tr>\n",
       "  </thead>\n",
       "  <tbody>\n",
       "    <tr>\n",
       "      <th>0</th>\n",
       "      <td>Hi HealthBot 19, I've been feeling a bit unde...</td>\n",
       "      <td>Hello! I'm here to help. What symptoms are yo...</td>\n",
       "    </tr>\n",
       "    <tr>\n",
       "      <th>1</th>\n",
       "      <td>I have a sore throat and a mild fever.</td>\n",
       "      <td>I'm sorry to hear that. Have you noticed any ...</td>\n",
       "    </tr>\n",
       "    <tr>\n",
       "      <th>2</th>\n",
       "      <td>Yes, I've had a dry cough as well.</td>\n",
       "      <td>Based on your symptoms of sore throat, mild f...</td>\n",
       "    </tr>\n",
       "    <tr>\n",
       "      <th>3</th>\n",
       "      <td>No, I haven't been in contact with anyone kno...</td>\n",
       "      <td>That's good to know. It's still important to ...</td>\n",
       "    </tr>\n",
       "    <tr>\n",
       "      <th>4</th>\n",
       "      <td>What kind of test should I get for COVID-19?</td>\n",
       "      <td>There are several types of tests available fo...</td>\n",
       "    </tr>\n",
       "  </tbody>\n",
       "</table>\n",
       "</div>"
      ],
      "text/plain": [
       "                                            Question  \\\n",
       "0   Hi HealthBot 19, I've been feeling a bit unde...   \n",
       "1             I have a sore throat and a mild fever.   \n",
       "2                 Yes, I've had a dry cough as well.   \n",
       "3   No, I haven't been in contact with anyone kno...   \n",
       "4       What kind of test should I get for COVID-19?   \n",
       "\n",
       "                                              Answer  \n",
       "0   Hello! I'm here to help. What symptoms are yo...  \n",
       "1   I'm sorry to hear that. Have you noticed any ...  \n",
       "2   Based on your symptoms of sore throat, mild f...  \n",
       "3   That's good to know. It's still important to ...  \n",
       "4   There are several types of tests available fo...  "
      ]
     },
     "execution_count": 33,
     "metadata": {},
     "output_type": "execute_result"
    }
   ],
   "source": [
    "cust = data.loc[data[0] == 'User']\n",
    "sales = data.loc[data[0] == 'HealthBot 19']\n",
    "\n",
    "cust  = cust[1].reset_index(drop = True)\n",
    "sales = sales[1].reset_index(drop = True)\n",
    "\n",
    "new_data = pd.DataFrame()\n",
    "new_data ['Question'] = cust\n",
    "new_data ['Answer'] = sales\n",
    "\n",
    "new_data.head()"
   ]
  },
  {
   "cell_type": "code",
   "execution_count": 34,
   "metadata": {},
   "outputs": [
    {
     "data": {
      "text/html": [
       "<div>\n",
       "<style scoped>\n",
       "    .dataframe tbody tr th:only-of-type {\n",
       "        vertical-align: middle;\n",
       "    }\n",
       "\n",
       "    .dataframe tbody tr th {\n",
       "        vertical-align: top;\n",
       "    }\n",
       "\n",
       "    .dataframe thead th {\n",
       "        text-align: right;\n",
       "    }\n",
       "</style>\n",
       "<table border=\"1\" class=\"dataframe\">\n",
       "  <thead>\n",
       "    <tr style=\"text-align: right;\">\n",
       "      <th></th>\n",
       "      <th>Question</th>\n",
       "      <th>Answer</th>\n",
       "      <th>tokenized Questions</th>\n",
       "    </tr>\n",
       "  </thead>\n",
       "  <tbody>\n",
       "    <tr>\n",
       "      <th>0</th>\n",
       "      <td>Hi HealthBot 19, I've been feeling a bit unde...</td>\n",
       "      <td>Hello! I'm here to help. What symptoms are yo...</td>\n",
       "      <td>hi healthbot 19 i been feeling a bit under the...</td>\n",
       "    </tr>\n",
       "    <tr>\n",
       "      <th>1</th>\n",
       "      <td>I have a sore throat and a mild fever.</td>\n",
       "      <td>I'm sorry to hear that. Have you noticed any ...</td>\n",
       "      <td>i have a sore throat and a mild fever</td>\n",
       "    </tr>\n",
       "    <tr>\n",
       "      <th>2</th>\n",
       "      <td>Yes, I've had a dry cough as well.</td>\n",
       "      <td>Based on your symptoms of sore throat, mild f...</td>\n",
       "      <td>yes i had a dry cough a well</td>\n",
       "    </tr>\n",
       "    <tr>\n",
       "      <th>3</th>\n",
       "      <td>No, I haven't been in contact with anyone kno...</td>\n",
       "      <td>That's good to know. It's still important to ...</td>\n",
       "      <td>no i have been in contact with anyone known to...</td>\n",
       "    </tr>\n",
       "    <tr>\n",
       "      <th>4</th>\n",
       "      <td>What kind of test should I get for COVID-19?</td>\n",
       "      <td>There are several types of tests available fo...</td>\n",
       "      <td>what kind of test should i get for</td>\n",
       "    </tr>\n",
       "    <tr>\n",
       "      <th>5</th>\n",
       "      <td>How long does it usually take to get the test...</td>\n",
       "      <td>The turnaround time for COVID-19 test results...</td>\n",
       "      <td>how long doe it usually take to get the test r...</td>\n",
       "    </tr>\n",
       "    <tr>\n",
       "      <th>6</th>\n",
       "      <td>Should I self-isolate even if I'm waiting for...</td>\n",
       "      <td>Yes, it's recommended to self-isolate while w...</td>\n",
       "      <td>should i even if i waiting for the test result</td>\n",
       "    </tr>\n",
       "    <tr>\n",
       "      <th>7</th>\n",
       "      <td>Thank you for the advice, HealthBot 19.</td>\n",
       "      <td>You're welcome! Remember to take care of your...</td>\n",
       "      <td>thank you for the advice healthbot 19</td>\n",
       "    </tr>\n",
       "    <tr>\n",
       "      <th>8</th>\n",
       "      <td>I have another question. How effective are th...</td>\n",
       "      <td>The COVID-19 vaccines have been shown to be h...</td>\n",
       "      <td>i have another question how effective are the ...</td>\n",
       "    </tr>\n",
       "    <tr>\n",
       "      <th>9</th>\n",
       "      <td>Are there any side effects of the COVID-19 va...</td>\n",
       "      <td>Like any vaccine, the COVID-19 vaccines can c...</td>\n",
       "      <td>are there any side effect of the vaccine</td>\n",
       "    </tr>\n",
       "    <tr>\n",
       "      <th>10</th>\n",
       "      <td>How long does protection from the COVID-19 va...</td>\n",
       "      <td>The duration of protection from the COVID-19 ...</td>\n",
       "      <td>how long doe protection from the vaccine last</td>\n",
       "    </tr>\n",
       "    <tr>\n",
       "      <th>11</th>\n",
       "      <td>Thank you for the information, HealthBot 19. ...</td>\n",
       "      <td>You're welcome! Stay informed, follow public ...</td>\n",
       "      <td>thank you for the information healthbot 19 i m...</td>\n",
       "    </tr>\n",
       "    <tr>\n",
       "      <th>12</th>\n",
       "      <td>One last question, HealthBot 19. How can I su...</td>\n",
       "      <td>That's a great question. Supporting others du...</td>\n",
       "      <td>one last question healthbot 19 how can i suppo...</td>\n",
       "    </tr>\n",
       "    <tr>\n",
       "      <th>13</th>\n",
       "      <td>Thank you, HealthBot 19, for all the informat...</td>\n",
       "      <td>You</td>\n",
       "      <td>thank you healthbot 19 for all the information...</td>\n",
       "    </tr>\n",
       "  </tbody>\n",
       "</table>\n",
       "</div>"
      ],
      "text/plain": [
       "                                             Question  \\\n",
       "0    Hi HealthBot 19, I've been feeling a bit unde...   \n",
       "1              I have a sore throat and a mild fever.   \n",
       "2                  Yes, I've had a dry cough as well.   \n",
       "3    No, I haven't been in contact with anyone kno...   \n",
       "4        What kind of test should I get for COVID-19?   \n",
       "5    How long does it usually take to get the test...   \n",
       "6    Should I self-isolate even if I'm waiting for...   \n",
       "7             Thank you for the advice, HealthBot 19.   \n",
       "8    I have another question. How effective are th...   \n",
       "9    Are there any side effects of the COVID-19 va...   \n",
       "10   How long does protection from the COVID-19 va...   \n",
       "11   Thank you for the information, HealthBot 19. ...   \n",
       "12   One last question, HealthBot 19. How can I su...   \n",
       "13   Thank you, HealthBot 19, for all the informat...   \n",
       "\n",
       "                                               Answer  \\\n",
       "0    Hello! I'm here to help. What symptoms are yo...   \n",
       "1    I'm sorry to hear that. Have you noticed any ...   \n",
       "2    Based on your symptoms of sore throat, mild f...   \n",
       "3    That's good to know. It's still important to ...   \n",
       "4    There are several types of tests available fo...   \n",
       "5    The turnaround time for COVID-19 test results...   \n",
       "6    Yes, it's recommended to self-isolate while w...   \n",
       "7    You're welcome! Remember to take care of your...   \n",
       "8    The COVID-19 vaccines have been shown to be h...   \n",
       "9    Like any vaccine, the COVID-19 vaccines can c...   \n",
       "10   The duration of protection from the COVID-19 ...   \n",
       "11   You're welcome! Stay informed, follow public ...   \n",
       "12   That's a great question. Supporting others du...   \n",
       "13                                                You   \n",
       "\n",
       "                                  tokenized Questions  \n",
       "0   hi healthbot 19 i been feeling a bit under the...  \n",
       "1               i have a sore throat and a mild fever  \n",
       "2                        yes i had a dry cough a well  \n",
       "3   no i have been in contact with anyone known to...  \n",
       "4                  what kind of test should i get for  \n",
       "5   how long doe it usually take to get the test r...  \n",
       "6      should i even if i waiting for the test result  \n",
       "7               thank you for the advice healthbot 19  \n",
       "8   i have another question how effective are the ...  \n",
       "9            are there any side effect of the vaccine  \n",
       "10      how long doe protection from the vaccine last  \n",
       "11  thank you for the information healthbot 19 i m...  \n",
       "12  one last question healthbot 19 how can i suppo...  \n",
       "13  thank you healthbot 19 for all the information...  "
      ]
     },
     "execution_count": 34,
     "metadata": {},
     "output_type": "execute_result"
    }
   ],
   "source": [
    "# Define a function for text preprocessing (including lemmatization)\n",
    "def preprocess_text(text):\n",
    "    # Identifies all sentences in the data\n",
    "    sentences = nltk.sent_tokenize(text)\n",
    "    \n",
    "    # Tokenize and lemmatize each word in each sentence\n",
    "    preprocessed_sentences = []\n",
    "    for sentence in sentences:\n",
    "        tokens = [lemmatizer.lemmatize(word.lower()) for word in nltk.word_tokenize(sentence) if word.isalnum()]\n",
    "        # Turns to basic root - each word in the tokenized word found in the tokenized sentence - if they are all alphanumeric \n",
    "        # The code above does the following:\n",
    "        # Identifies every word in the sentence \n",
    "        # Turns it to a lower case \n",
    "        # Lemmatizes it if the word is alphanumeric\n",
    "\n",
    "        preprocessed_sentence = ' '.join(tokens)\n",
    "        preprocessed_sentences.append(preprocessed_sentence)\n",
    "    \n",
    "    return ' '.join(preprocessed_sentences)\n",
    "\n",
    "\n",
    "new_data['tokenized Questions'] = new_data['Question'].apply(preprocess_text)\n",
    "new_data"
   ]
  },
  {
   "cell_type": "code",
   "execution_count": 35,
   "metadata": {},
   "outputs": [
    {
     "data": {
      "text/plain": [
       "['hi healthbot 19 i been feeling a bit under the weather lately',\n",
       " 'i have a sore throat and a mild fever',\n",
       " 'yes i had a dry cough a well',\n",
       " 'no i have been in contact with anyone known to have',\n",
       " 'what kind of test should i get for',\n",
       " 'how long doe it usually take to get the test result',\n",
       " 'should i even if i waiting for the test result',\n",
       " 'thank you for the advice healthbot 19',\n",
       " 'i have another question how effective are the vaccine',\n",
       " 'are there any side effect of the vaccine',\n",
       " 'how long doe protection from the vaccine last',\n",
       " 'thank you for the information healthbot 19 i make sure to stay updated on vaccine guideline and recommendation',\n",
       " 'one last question healthbot 19 how can i support others who may be struggling with or it effect',\n",
       " 'thank you healthbot 19 for all the information and guidance i do my best to support others and stay safe']"
      ]
     },
     "execution_count": 35,
     "metadata": {},
     "output_type": "execute_result"
    }
   ],
   "source": [
    "xtrain = new_data['tokenized Questions'].to_list()\n",
    "xtrain"
   ]
  },
  {
   "cell_type": "code",
   "execution_count": 36,
   "metadata": {},
   "outputs": [
    {
     "name": "stdout",
     "output_type": "stream",
     "text": [
      "  (0, 40)\t0.3586460091802317\n",
      "  (0, 76)\t0.3586460091802317\n",
      "  (0, 67)\t0.16719093404682528\n",
      "  (0, 71)\t0.3586460091802317\n",
      "  (0, 11)\t0.3586460091802317\n",
      "  (0, 21)\t0.3586460091802317\n",
      "  (0, 9)\t0.3104128017125271\n",
      "  (0, 0)\t0.22795758892838874\n",
      "  (0, 30)\t0.22795758892838874\n",
      "  (0, 31)\t0.3586460091802317\n",
      "  (1, 22)\t0.4391168660034427\n",
      "  (1, 44)\t0.4391168660034427\n",
      "  (1, 3)\t0.3381608433610094\n",
      "  (1, 69)\t0.4391168660034427\n",
      "  (1, 59)\t0.4391168660034427\n",
      "  (1, 29)\t0.3381608433610094\n",
      "  (2, 77)\t0.4472135954999579\n",
      "  (2, 14)\t0.4472135954999579\n",
      "  (2, 17)\t0.4472135954999579\n",
      "  (2, 28)\t0.4472135954999579\n",
      "  (2, 81)\t0.4472135954999579\n",
      "  (3, 70)\t0.22758241219403882\n",
      "  (3, 38)\t0.326948863137346\n",
      "  (3, 6)\t0.326948863137346\n",
      "  (3, 80)\t0.28297850812606545\n",
      "  :\t:\n",
      "  (12, 18)\t0.2352466925364947\n",
      "  (12, 53)\t0.2352466925364947\n",
      "  (12, 36)\t0.2352466925364947\n",
      "  (12, 32)\t0.1891946144697107\n",
      "  (12, 80)\t0.2352466925364947\n",
      "  (12, 0)\t0.17275791635571955\n",
      "  (12, 30)\t0.17275791635571955\n",
      "  (13, 56)\t0.2628982194675079\n",
      "  (13, 10)\t0.2628982194675079\n",
      "  (13, 45)\t0.2628982194675079\n",
      "  (13, 15)\t0.2628982194675079\n",
      "  (13, 26)\t0.2628982194675079\n",
      "  (13, 2)\t0.2628982194675079\n",
      "  (13, 51)\t0.22754184009094525\n",
      "  (13, 62)\t0.22754184009094525\n",
      "  (13, 60)\t0.22754184009094525\n",
      "  (13, 35)\t0.22754184009094525\n",
      "  (13, 82)\t0.20245608970196835\n",
      "  (13, 66)\t0.20245608970196835\n",
      "  (13, 23)\t0.16709971032540566\n",
      "  (13, 70)\t0.18299807001561344\n",
      "  (13, 3)\t0.4049121794039367\n",
      "  (13, 67)\t0.12255594025007384\n",
      "  (13, 0)\t0.16709971032540566\n",
      "  (13, 30)\t0.16709971032540566\n"
     ]
    }
   ],
   "source": [
    "# Vectorize corpus\n",
    "tfidf_vectorizer = TfidfVectorizer()\n",
    "corpus = tfidf_vectorizer.fit_transform(xtrain)\n",
    "\n",
    "print(corpus)"
   ]
  },
  {
   "cell_type": "code",
   "execution_count": 37,
   "metadata": {},
   "outputs": [
    {
     "name": "stdout",
     "output_type": "stream",
     "text": [
      "Hello I'v been feeling a bit under the water\n"
     ]
    }
   ],
   "source": [
    "user = input('Pls ask your question: ')\n",
    "\n",
    "print(user)"
   ]
  },
  {
   "cell_type": "code",
   "execution_count": 38,
   "metadata": {},
   "outputs": [
    {
     "data": {
      "text/plain": [
       "'hello i v been feeling a bit under the water'"
      ]
     },
     "execution_count": 38,
     "metadata": {},
     "output_type": "execute_result"
    }
   ],
   "source": [
    "preprocess_text(user)"
   ]
  },
  {
   "cell_type": "code",
   "execution_count": 39,
   "metadata": {},
   "outputs": [
    {
     "name": "stdout",
     "output_type": "stream",
     "text": [
      "  (0, 71)\t0.5021114426197719\n",
      "  (0, 67)\t0.23407058475035653\n",
      "  (0, 21)\t0.5021114426197719\n",
      "  (0, 11)\t0.5021114426197719\n",
      "  (0, 9)\t0.4345840067530108\n"
     ]
    }
   ],
   "source": [
    "#Vectorize user input\n",
    "user_transformed = tfidf_vectorizer.transform([user])\n",
    "print(user_transformed)"
   ]
  },
  {
   "cell_type": "code",
   "execution_count": 40,
   "metadata": {},
   "outputs": [
    {
     "data": {
      "text/plain": [
       "array([[0.71427571, 0.        , 0.        , 0.12297793, 0.        ,\n",
       "        0.03977782, 0.04565385, 0.05738734, 0.04749782, 0.0447368 ,\n",
       "        0.04681073, 0.03193389, 0.        , 0.02868674]])"
      ]
     },
     "execution_count": 40,
     "metadata": {},
     "output_type": "execute_result"
    }
   ],
   "source": [
    "#find similarity \n",
    "similarity_scores = cosine_similarity(user_transformed, corpus)\n",
    "similarity_scores"
   ]
  },
  {
   "cell_type": "code",
   "execution_count": 41,
   "metadata": {},
   "outputs": [
    {
     "data": {
      "text/plain": [
       "\" Hello! I'm here to help. What symptoms are you experiencing?\""
      ]
     },
     "execution_count": 41,
     "metadata": {},
     "output_type": "execute_result"
    }
   ],
   "source": [
    "new_data['Answer'].iloc[similarity_scores.argmax()]"
   ]
  },
  {
   "cell_type": "code",
   "execution_count": 42,
   "metadata": {},
   "outputs": [],
   "source": [
    "def collector():\n",
    "    user = input('Pls ask your question: ')\n",
    "    pre_user = preprocess_text(user)\n",
    "    vect_user = tfidf_vectorizer.transform([pre_user])\n",
    "    similarity_scores = cosine_similarity(vect_user, corpus)\n",
    "    most_similar_index = similarity_scores.argmax()\n",
    "    \n",
    "    return new_data['Answer'].iloc[most_similar_index]"
   ]
  },
  {
   "cell_type": "code",
   "execution_count": 43,
   "metadata": {},
   "outputs": [
    {
     "data": {
      "text/plain": [
       "\" I'm sorry to hear that. Have you noticed any other symptoms, such as coughing or difficulty breathing?\""
      ]
     },
     "execution_count": 43,
     "metadata": {},
     "output_type": "execute_result"
    }
   ],
   "source": [
    "collector()   #This is to call the collector function"
   ]
  },
  {
   "cell_type": "code",
   "execution_count": 3,
   "metadata": {},
   "outputs": [
    {
     "name": "stdout",
     "output_type": "stream",
     "text": [
      "How may i help you?\n",
      "How may i help you?\n",
      "How may i help you?\n"
     ]
    }
   ],
   "source": [
    "def responder(user_input):\n",
    "    user_input_processed = preprocess_text(user_input)\n",
    "    vectorized_user_input = tfidf_vectorizer.transform([user_input_processed])\n",
    "    similarity_score = cosine_similarity(vectorized_user_input, corpus)\n",
    "    argument_maximum = similarity_score.argmax()\n",
    "    return new_data['Answer'].iloc[ argument_maximum]\n",
    "\n",
    "bot_greetings = ['Hello user, i am a creation of Jimoh...Ask your question',\n",
    "             'How far wetin dey sup?',\n",
    "             'How may i help you?',\n",
    "             'Why you show face, everything clear?',\n",
    "             'Good day user, welcome to my world. How may i help you?']\n",
    "\n",
    "bot_farewell = [ 'Thanks for your usage... bye',\n",
    "            'Alright sir... Hope to see you soon',\n",
    "            'Oya now... e go be',\n",
    "            'Everygood abi.. later things']\n",
    "\n",
    "human_greetings = ['hi', 'hello there', 'hey', 'hello']\n",
    "\n",
    "human_exits = ['thanks bye', 'bye', 'quit', 'exit', 'bye bye', 'close']\n",
    "\n",
    "import random\n",
    "random_greeting = random.choice(bot_greetings)\n",
    "random_farewell = random.choice(bot_farewell)\n",
    "\n",
    "while True:\n",
    "    user_input = input('You: ')\n",
    "\n",
    "    if user_input in human_greetings:\n",
    "        print(random_greeting)\n",
    "    elif user_input.lower() in human_exits:\n",
    "        print(random_farewell)\n",
    "        break\n",
    "    else:\n",
    "        responder(user_input)"
   ]
  },
  {
   "cell_type": "markdown",
   "metadata": {},
   "source": [
    "DATA VISUALIZATION\n"
   ]
  },
  {
   "cell_type": "code",
   "execution_count": 6,
   "metadata": {},
   "outputs": [
    {
     "data": {
      "image/png": "[encoded data removed]",
      "text/plain": [
       "<Figure size 1000x500 with 1 Axes>"
      ]
     },
     "metadata": {},
     "output_type": "display_data"
    }
   ],
   "source": [
    "from nltk.tokenize import word_tokenize\n",
    "import seaborn as sns\n",
    "import matplotlib.pyplot as plt\n",
    "\n",
    "# Example text data (replace with your actual text data)\n",
    "text = \"This is an example sentence. Another sentence follows this one.\"\n",
    "\n",
    "# Tokenize the text\n",
    "tokens = word_tokenize(text)\n",
    "\n",
    "# Plot histogram of word frequencies\n",
    "plt.figure(figsize=(10, 5))\n",
    "sns.histplot(tokens, kde=False)\n",
    "plt.xlabel('Words')\n",
    "plt.ylabel('Frequency')\n",
    "plt.title('Histogram of Word Frequencies')\n",
    "plt.xticks(rotation=45)\n",
    "plt.show()"
   ]
  }
 ],
 "metadata": {
  "kernelspec": {
   "display_name": "Python 3",
   "language": "python",
   "name": "python3"
  },
  "language_info": {
   "codemirror_mode": {
    "name": "ipython",
    "version": 3
   },
   "file_extension": ".py",
   "mimetype": "text/x-python",
   "name": "python",
   "nbconvert_exporter": "python",
   "pygments_lexer": "ipython3",
   "version": "3.11.0"
  }
 },
 "nbformat": 4,
 "nbformat_minor": 2
}
